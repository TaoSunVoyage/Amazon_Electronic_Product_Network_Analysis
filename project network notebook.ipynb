{
 "cells": [
  {
   "cell_type": "markdown",
   "metadata": {},
   "source": [
    "## NTDS project"
   ]
  },
  {
   "cell_type": "code",
   "execution_count": 3,
   "metadata": {
    "collapsed": true
   },
   "outputs": [],
   "source": [
    "import pandas as pd\n",
    "import gzip\n",
    "import json\n",
    "import numpy as np\n",
    "import matplotlib.pyplot as plt\n",
    "%matplotlib inline\n",
    "pd.options.mode.chained_assignment = None"
   ]
  },
  {
   "cell_type": "markdown",
   "metadata": {},
   "source": [
    "---\n",
    "## Data after pre-processing"
   ]
  },
  {
   "cell_type": "code",
   "execution_count": 4,
   "metadata": {},
   "outputs": [],
   "source": [
    "df_product = pd.read_pickle('data/product_also_bought.pkl')\n",
    "df_review = pd.read_pickle('data/review_also_bought.pkl')"
   ]
  },
  {
   "cell_type": "code",
   "execution_count": 5,
   "metadata": {},
   "outputs": [
    {
     "name": "stdout",
     "output_type": "stream",
     "text": [
      "Ultimately, we decide to keep 43276 electronic products to conduct our project\n"
     ]
    }
   ],
   "source": [
    "print(\"Ultimately, we decide to keep {} electronic products to conduct our project\".format(df_product.shape[0]))"
   ]
  },
  {
   "cell_type": "markdown",
   "metadata": {},
   "source": [
    "---\n",
    "## Research about Macbook and Surface"
   ]
  },
  {
   "cell_type": "code",
   "execution_count": 6,
   "metadata": {
    "collapsed": true
   },
   "outputs": [],
   "source": [
    "def get_all_related_asin_from_list_asin(list_asin):\n",
    "    res = []\n",
    "    for asin in list_asin:\n",
    "        res.extend(df_product.loc[asin]['also_bought'])\n",
    "    res = list(set(res))\n",
    "    return res"
   ]
  },
  {
   "cell_type": "code",
   "execution_count": 50,
   "metadata": {},
   "outputs": [
    {
     "data": {
      "text/plain": [
       "(743, 2)"
      ]
     },
     "execution_count": 50,
     "metadata": {},
     "output_type": "execute_result"
    }
   ],
   "source": [
    "# Macbook\n",
    "nb_layer = 2\n",
    "df_mac = df_product[df_product.index == 'B005CWJB5G']\n",
    "list_asin = ['B005CWJB5G']\n",
    "for i in range(nb_layer):\n",
    "    index = get_all_related_asin_from_list_asin(list_asin)\n",
    "    df_mac = pd.concat([df_mac,df_product.loc[index]])\n",
    "    list_asin = index\n",
    "df_mac = df_mac.reset_index().drop_duplicates(subset='asin')\n",
    "df_mac.shape"
   ]
  },
  {
   "cell_type": "code",
   "execution_count": 51,
   "metadata": {},
   "outputs": [
    {
     "data": {
      "text/plain": [
       "(499, 2)"
      ]
     },
     "execution_count": 51,
     "metadata": {},
     "output_type": "execute_result"
    }
   ],
   "source": [
    "# Surface\n",
    "nb_layer = 2\n",
    "df_surface = df_product[df_product.index == 'B00FG7MVJU']\n",
    "list_asin = ['B00FG7MVJU']\n",
    "for i in range(nb_layer):\n",
    "    index = get_all_related_asin_from_list_asin(list_asin)\n",
    "    df_surface = pd.concat([df_surface,df_product.loc[index]])\n",
    "    list_asin = index\n",
    "df_surface = df_surface.reset_index().drop_duplicates(subset='asin')\n",
    "df_surface.shape"
   ]
  },
  {
   "cell_type": "code",
   "execution_count": 52,
   "metadata": {},
   "outputs": [
    {
     "data": {
      "text/plain": [
       "134"
      ]
     },
     "execution_count": 52,
     "metadata": {},
     "output_type": "execute_result"
    }
   ],
   "source": [
    "len(set(df_mac.asin.values) & set(df_surface.asin.values))"
   ]
  },
  {
   "cell_type": "code",
   "execution_count": 53,
   "metadata": {
    "collapsed": true
   },
   "outputs": [],
   "source": [
    "intersection_index = list(set(df_mac.asin.values) & set(df_surface.asin.values))"
   ]
  },
  {
   "cell_type": "code",
   "execution_count": 54,
   "metadata": {
    "collapsed": true
   },
   "outputs": [],
   "source": [
    "df_all = pd.concat([df_mac, df_surface])\n",
    "df_all.drop_duplicates(subset='asin', inplace=True)"
   ]
  },
  {
   "cell_type": "code",
   "execution_count": 55,
   "metadata": {},
   "outputs": [
    {
     "data": {
      "text/html": [
       "<div>\n",
       "<style>\n",
       "    .dataframe thead tr:only-child th {\n",
       "        text-align: right;\n",
       "    }\n",
       "\n",
       "    .dataframe thead th {\n",
       "        text-align: left;\n",
       "    }\n",
       "\n",
       "    .dataframe tbody tr th {\n",
       "        vertical-align: top;\n",
       "    }\n",
       "</style>\n",
       "<table border=\"1\" class=\"dataframe\">\n",
       "  <thead>\n",
       "    <tr style=\"text-align: right;\">\n",
       "      <th></th>\n",
       "      <th>asin</th>\n",
       "      <th>also_bought</th>\n",
       "    </tr>\n",
       "  </thead>\n",
       "  <tbody>\n",
       "    <tr>\n",
       "      <th>0</th>\n",
       "      <td>B005CWJB5G</td>\n",
       "      <td>[B004R6J2V6, B007FL7GGS, B0077EVNY4, B008AL9VX...</td>\n",
       "    </tr>\n",
       "    <tr>\n",
       "      <th>1</th>\n",
       "      <td>B004I4BS1E</td>\n",
       "      <td>[B008AKNIQ0, B004J0DY1O, B007FL7GGS, B004J0IMY...</td>\n",
       "    </tr>\n",
       "    <tr>\n",
       "      <th>2</th>\n",
       "      <td>B0047DVRQW</td>\n",
       "      <td>[B004WI867K, B005CWIN1E, B005CWJB5G, B005CWJ8Y...</td>\n",
       "    </tr>\n",
       "    <tr>\n",
       "      <th>3</th>\n",
       "      <td>B004WI8YRC</td>\n",
       "      <td>[B007FL7GGS, B004WI867K, B00C62CHT2, B004I4BS1...</td>\n",
       "    </tr>\n",
       "    <tr>\n",
       "      <th>4</th>\n",
       "      <td>B004YLCHLQ</td>\n",
       "      <td>[B004R6J2KW, B008AL9VXI, B003XIJ3MW, B004YLCH0...</td>\n",
       "    </tr>\n",
       "  </tbody>\n",
       "</table>\n",
       "</div>"
      ],
      "text/plain": [
       "         asin                                        also_bought\n",
       "0  B005CWJB5G  [B004R6J2V6, B007FL7GGS, B0077EVNY4, B008AL9VX...\n",
       "1  B004I4BS1E  [B008AKNIQ0, B004J0DY1O, B007FL7GGS, B004J0IMY...\n",
       "2  B0047DVRQW  [B004WI867K, B005CWIN1E, B005CWJB5G, B005CWJ8Y...\n",
       "3  B004WI8YRC  [B007FL7GGS, B004WI867K, B00C62CHT2, B004I4BS1...\n",
       "4  B004YLCHLQ  [B004R6J2KW, B008AL9VXI, B003XIJ3MW, B004YLCH0..."
      ]
     },
     "execution_count": 55,
     "metadata": {},
     "output_type": "execute_result"
    }
   ],
   "source": [
    "df_all.head()"
   ]
  },
  {
   "cell_type": "markdown",
   "metadata": {},
   "source": [
    "---\n",
    "## Generate JSON file for circle network"
   ]
  },
  {
   "cell_type": "code",
   "execution_count": 56,
   "metadata": {},
   "outputs": [],
   "source": [
    "df_mac.set_index('asin',inplace=True)\n",
    "only_mac = set(df_mac.index.values) - set(intersection_index)\n",
    "df_mac_only = df_mac.loc[only_mac]\n",
    "\n",
    "df_mac_only['# also_bought'] = df_mac_only.also_bought.apply(len)\n",
    "df_mac_new = df_mac_only.sort_values('# also_bought',ascending=False).iloc[150:200]\n",
    "df_mac_new.drop(['# also_bought'],axis=1,inplace=True)\n",
    "\n",
    "df_mac_new.reset_index(inplace=True)"
   ]
  },
  {
   "cell_type": "code",
   "execution_count": 57,
   "metadata": {},
   "outputs": [
    {
     "data": {
      "text/plain": [
       "(50, 2)"
      ]
     },
     "execution_count": 57,
     "metadata": {},
     "output_type": "execute_result"
    }
   ],
   "source": [
    "df_mac_new.shape"
   ]
  },
  {
   "cell_type": "code",
   "execution_count": 58,
   "metadata": {
    "collapsed": true
   },
   "outputs": [],
   "source": [
    "df_surface.set_index('asin',inplace=True)\n",
    "only_surface = set(df_surface.index.values) - set(intersection_index)\n",
    "df_surface_only = df_surface.loc[only_surface]\n",
    "\n",
    "df_surface_only['# also_bought'] = df_surface_only.also_bought.apply(len)\n",
    "df_surface_new = df_surface_only.sort_values('# also_bought',ascending=False).iloc[150:200]\n",
    "df_surface_new.drop(['# also_bought'],axis=1,inplace=True)\n",
    "\n",
    "df_surface_new.reset_index(inplace=True)"
   ]
  },
  {
   "cell_type": "code",
   "execution_count": 59,
   "metadata": {},
   "outputs": [
    {
     "data": {
      "text/plain": [
       "(50, 2)"
      ]
     },
     "execution_count": 59,
     "metadata": {},
     "output_type": "execute_result"
    }
   ],
   "source": [
    "df_surface_new.shape"
   ]
  },
  {
   "cell_type": "code",
   "execution_count": 61,
   "metadata": {
    "collapsed": true
   },
   "outputs": [],
   "source": [
    "mac_asin = df_mac_only.index.values\n",
    "surface_asin = df_surface_only.index.values\n",
    "\n",
    "def transform(x):\n",
    "    res = []\n",
    "    for asin in x:\n",
    "        if asin in mac_asin:\n",
    "            res.append('Macbook: ' + asin)\n",
    "        else:\n",
    "            res.append('Surface: ' + asin)\n",
    "    return res"
   ]
  },
  {
   "cell_type": "code",
   "execution_count": 60,
   "metadata": {},
   "outputs": [],
   "source": [
    "# Add label for each asin: Macbook/Surface\n",
    "df_mac_new.asin = df_mac_new.asin.apply(lambda x: 'Macbook: ' + x)\n",
    "df_surface_new.asin = df_surface_new.asin.apply(lambda x: 'Surface: ' + x)\n",
    "df_mac_new.also_bought = df_mac_new.also_bought.apply(lambda x: transform(x))\n",
    "df_surface_new.also_bought = df_surface_new.also_bought.apply(lambda x: transform(x))\n",
    "\n",
    "# Concatenate two sub dataframes\n",
    "df_all = pd.concat([df_mac_new,df_surface_new])\n",
    "df_all.drop_duplicates(subset='asin', inplace=True)"
   ]
  },
  {
   "cell_type": "code",
   "execution_count": 64,
   "metadata": {
    "collapsed": true
   },
   "outputs": [],
   "source": [
    "# Drop all also_bought asin which not in our asin list\n",
    "df_all.set_index('asin',inplace=True)\n",
    "\n",
    "all_index = df_all.index.values\n",
    "for asin in all_index:\n",
    "    new_related = []\n",
    "    for related in df_all.loc[asin].also_bought:\n",
    "        if related in all_index:\n",
    "            new_related.append(related)\n",
    "    df_all.loc[asin].also_bought = new_related\n",
    "\n",
    "df_all.reset_index(inplace=True)"
   ]
  },
  {
   "cell_type": "code",
   "execution_count": 65,
   "metadata": {},
   "outputs": [
    {
     "data": {
      "text/plain": [
       "(100, 2)"
      ]
     },
     "execution_count": 65,
     "metadata": {},
     "output_type": "execute_result"
    }
   ],
   "source": [
    "df_all.shape"
   ]
  },
  {
   "cell_type": "code",
   "execution_count": 207,
   "metadata": {
    "collapsed": true
   },
   "outputs": [],
   "source": [
    "import json\n",
    "df_all.to_json('amazon.json',orient='records')"
   ]
  },
  {
   "cell_type": "markdown",
   "metadata": {},
   "source": [
    "---\n",
    "## Generate JSON file for random network"
   ]
  },
  {
   "cell_type": "code",
   "execution_count": 109,
   "metadata": {},
   "outputs": [],
   "source": [
    "df_mac['# also_bought'] = df_mac.also_bought.apply(len)\n",
    "df_mac_new = df_mac.sort_values('# also_bought',ascending=False).iloc[100:200]\n",
    "df_mac_new.drop(['# also_bought'],axis=1,inplace=True)\n",
    "df_mac_new.reset_index(inplace=True)"
   ]
  },
  {
   "cell_type": "code",
   "execution_count": 110,
   "metadata": {
    "collapsed": true
   },
   "outputs": [],
   "source": [
    "df_surface['# also_bought'] = df_surface.also_bought.apply(len)\n",
    "df_surface_new = df_surface.sort_values('# also_bought',ascending=False).iloc[100:200]\n",
    "df_surface_new.drop(['# also_bought'],axis=1,inplace=True)\n",
    "df_surface_new.reset_index(inplace=True)"
   ]
  },
  {
   "cell_type": "code",
   "execution_count": 111,
   "metadata": {
    "collapsed": true
   },
   "outputs": [],
   "source": [
    "mac_asin = df_mac_only.index.values\n",
    "surface_asin = df_surface_only.index.values\n",
    "df_mac_new.asin = df_mac_new.asin.apply(lambda x: 'Macbook: ' + x)\n",
    "df_surface_new.asin = df_surface_new.asin.apply(lambda x: 'Surface: ' + x)\n",
    "\n",
    "df_mac_new.also_bought = df_mac_new.also_bought.apply(lambda x: transform(x))\n",
    "df_surface_new.also_bought = df_surface_new.also_bought.apply(lambda x: transform(x))\n",
    "\n",
    "df_all_net = pd.concat([df_mac_new,df_surface_new])\n",
    "df_all_net.drop_duplicates(subset='asin', inplace=True)"
   ]
  },
  {
   "cell_type": "code",
   "execution_count": 112,
   "metadata": {},
   "outputs": [],
   "source": [
    "df_mac_net = df_mac_new[['asin']]\n",
    "df_mac_net['group'] = 0\n",
    "df_mac_net.columns = ['id','group']"
   ]
  },
  {
   "cell_type": "code",
   "execution_count": 113,
   "metadata": {},
   "outputs": [
    {
     "data": {
      "text/plain": [
       "(100, 2)"
      ]
     },
     "execution_count": 113,
     "metadata": {},
     "output_type": "execute_result"
    }
   ],
   "source": [
    "df_mac_net.shape"
   ]
  },
  {
   "cell_type": "code",
   "execution_count": 114,
   "metadata": {},
   "outputs": [],
   "source": [
    "df_surface_net = df_surface_new[['asin']]\n",
    "df_surface_net['group'] = 2\n",
    "df_surface_net.columns = ['id','group']"
   ]
  },
  {
   "cell_type": "code",
   "execution_count": 115,
   "metadata": {},
   "outputs": [
    {
     "data": {
      "text/plain": [
       "(100, 2)"
      ]
     },
     "execution_count": 115,
     "metadata": {},
     "output_type": "execute_result"
    }
   ],
   "source": [
    "df_surface_net.shape"
   ]
  },
  {
   "cell_type": "code",
   "execution_count": 116,
   "metadata": {},
   "outputs": [],
   "source": [
    "df_all_nodes = pd.concat([df_mac_net,df_surface_net])"
   ]
  },
  {
   "cell_type": "code",
   "execution_count": 117,
   "metadata": {
    "collapsed": true
   },
   "outputs": [],
   "source": [
    "df_all_nodes.to_json('node.json',orient='records')"
   ]
  },
  {
   "cell_type": "code",
   "execution_count": 119,
   "metadata": {},
   "outputs": [],
   "source": [
    "df_all_net.set_index('asin',inplace=True)\n",
    "df_link = pd.DataFrame(columns=('source','target','value'))\n",
    "for asin in df_all_net.index.values:\n",
    "    for item in df_all_net.loc[asin].also_bought:\n",
    "        if asin in df_all_nodes.id.values and item in df_all_nodes.id.values:\n",
    "            df_link = df_link.append(pd.DataFrame([[asin, item, 1]], columns=('source','target','value')))"
   ]
  },
  {
   "cell_type": "code",
   "execution_count": 124,
   "metadata": {},
   "outputs": [
    {
     "data": {
      "text/plain": [
       "(1830, 3)"
      ]
     },
     "execution_count": 124,
     "metadata": {},
     "output_type": "execute_result"
    }
   ],
   "source": [
    "df_link.shape"
   ]
  },
  {
   "cell_type": "code",
   "execution_count": 81,
   "metadata": {},
   "outputs": [],
   "source": [
    "df_link.to_json('link.json',orient='records')"
   ]
  },
  {
   "cell_type": "code",
   "execution_count": null,
   "metadata": {
    "collapsed": true
   },
   "outputs": [],
   "source": []
  }
 ],
 "metadata": {
  "kernelspec": {
   "display_name": "Python 3",
   "language": "python",
   "name": "python3"
  },
  "language_info": {
   "codemirror_mode": {
    "name": "ipython",
    "version": 3
   },
   "file_extension": ".py",
   "mimetype": "text/x-python",
   "name": "python",
   "nbconvert_exporter": "python",
   "pygments_lexer": "ipython3",
   "version": "3.6.1"
  }
 },
 "nbformat": 4,
 "nbformat_minor": 2
}
